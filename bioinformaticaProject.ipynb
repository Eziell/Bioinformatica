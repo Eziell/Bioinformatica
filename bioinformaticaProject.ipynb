{
 "cells": [
  {
   "cell_type": "markdown",
   "metadata": {},
   "source": [
    "# Functions defining"
   ]
  },
  {
   "cell_type": "code",
   "execution_count": 35,
   "metadata": {
    "scrolled": true
   },
   "outputs": [],
   "source": [
    "##Functions\n",
    "from Bio import SeqIO\n",
    "import json\n",
    "import requests\n",
    "import numpy as np\n",
    "import matplotlib\n",
    "import matplotlib.pyplot as plt\n",
    "\n",
    "\n",
    "def getProteinArray(uniprot_file):   \n",
    "        parkinson_sequences = SeqIO.parse(open(uniprot_file),'fasta')\n",
    "        #retrieving protein names and IDs\n",
    "        \n",
    "        \n",
    "        protein_info = []\n",
    "        for fasta in parkinson_sequences:\n",
    "                name, sequence, description= fasta.id, str(fasta.seq), str(fasta.description)\n",
    "                id = name.split(\"|\")\n",
    "                entry =  [id[1], id[2], description, sequence]\n",
    "                protein_info.append(entry)\n",
    "        return protein_info\n",
    "\n",
    "def get_Full_Description(uniprot_id):\n",
    "\n",
    "    #Get the Uniprot data\n",
    "    response = requests.get('http://www.uniprot.org/uniprot/' + uniprot_id + '.txt')\n",
    "    data = response.text\n",
    "    \n",
    "    return data\n",
    "\n",
    "def xml_get_NucleotideVar(uniprot_id):\n",
    "    \n",
    "    #Get the Uniprot data in xml\n",
    "    response = requests.get('http://www.uniprot.org/uniprot/' + uniprot_id + '.xml')\n",
    "    data = response.text\n",
    "    \n",
    "def get_NucleotideVar(uniprot_id):\n",
    "\n",
    "    #Get the Uniprot data\n",
    "    response = requests.get('http://www.uniprot.org/uniprot/' + uniprot_id + '.txt')\n",
    "    data = response.text\n",
    "    data_lines = data.splitlines()\n",
    "    \n",
    "    # Look for the RP identifiers followed by NUCLEOTIDE SEQUENCE\n",
    "    rp_ids = set()\n",
    "    for line in data_lines:\n",
    "        if line.startswith('RP') and \"VARIANT\" in line:\n",
    "            rp_ids.add(line)\n",
    "    \n",
    "    return \"\\n\".join(rp_ids)\n",
    "\n",
    "def get_full_annotation(uniprot_id):\n",
    "    distinct_terms = set()\n",
    "    \n",
    "    # First get the Uniprot data\n",
    "    response = requests.get('http://www.uniprot.org/uniprot/' + uniprot_id + '.txt')\n",
    "    data = response.text\n",
    "    data_lines = data.splitlines()\n",
    "    \n",
    "    # Look for the GO identifiers in the response and save them in a set\n",
    "    go_ids = set()\n",
    "    for line in data_lines:\n",
    "        if line.startswith('DR   GO'):\n",
    "            line_prefix, go_id, go_term_full, evidence_code = line.split(';')\n",
    "            go_id = go_id.strip()\n",
    "            go_ids.add(go_id)\n",
    "    \n",
    "    # Construct the URL for the QuickGO Request with all those GO identifiers\n",
    "    the_url = 'https://www.ebi.ac.uk/QuickGO/services/ontology/go/terms/'\n",
    "    the_url += ','.join(go_ids)\n",
    "    the_url += '/ancestors?relations=is_a'\n",
    "    \n",
    "    # Make the request and parse the results\n",
    "    response = requests.get(the_url)\n",
    "    anc_data = json.loads(response.text)\n",
    "    results = anc_data['results']\n",
    "    for record in results:\n",
    "        distinct_terms.update(record['ancestors'])\n",
    "                                        \n",
    "    return distinct_terms\n",
    "\n",
    "def get_term_info(go_id):\n",
    "    the_url = 'https://www.ebi.ac.uk/QuickGO/services/ontology/go/terms/' + go_id\n",
    "    response = requests.get(the_url)\n",
    "    data = json.loads(response.text)\n",
    "    \n",
    "    record = data['results'][0] # Get the first result, because we are only requesting one!\n",
    "    \n",
    "    # Return a dictionary that contains the information of this GO term\n",
    "    go_info = {\n",
    "        'go_id': record['id'],\n",
    "        'aspect': record['aspect'],\n",
    "        'name': record['name'],\n",
    "        'definition': record['definition']['text'],\n",
    "        'obsolete': record['isObsolete'],\n",
    "    }\n",
    "    \n",
    "    return go_info\n",
    "\n",
    "def heat_plot_analysis(protein_label, protein_terms, show_graph):\n",
    "    protein_annotation_count = []\n",
    "    for protein1 in protein_terms.values():\n",
    "            pac_line = []\n",
    "            for protein2 in protein_terms.values():\n",
    "                    l1 = len(protein1)\n",
    "                    l2 = len(protein2)\n",
    "                    \n",
    "                    if(l1 > l2):\n",
    "                            count_ref = l1\n",
    "                    else:\n",
    "                            count_ref = l2\n",
    "                    p = set(protein1).intersection(protein2)\n",
    "                    pac_line.append(round((len(p)*1.0/count_ref)*100))\n",
    "            \n",
    "            protein_annotation_count.append(pac_line)\n",
    "\n",
    "    fig, ax = plt.subplots()\n",
    "    im = ax.imshow(protein_annotation_count)\n",
    "\n",
    "    # We want to show all ticks...\n",
    "    ax.set_xticks(np.arange(len(protein_label)))\n",
    "    ax.set_yticks(np.arange(len(protein_label)))\n",
    "    # ... and label them with the respective list entries\n",
    "    ax.set_xticklabels(protein_label)\n",
    "    ax.set_yticklabels(protein_label)\n",
    "\n",
    "    # Rotate the tick labels and set their alignment.\n",
    "    plt.setp(ax.get_xticklabels(), rotation=45, ha=\"right\",\n",
    "            rotation_mode=\"anchor\")\n",
    "\n",
    "    # Loop over data dimensions and create text annotations.\n",
    "\n",
    "    ax.set_title(\"Relative number of common annotations:\")\n",
    "    fig.tight_layout()\n",
    "    \n",
    "    if(show_graph == True):\n",
    "        plt.show()\n",
    "    else:\n",
    "        output = []\n",
    "        header = \"\\t\\t\"+\"\\t\\t\".join(protein_label)\n",
    "        output.append(header)\n",
    "        for index, protein in enumerate(protein_annotation_count):\n",
    "            output.append(protein_label[index] + \"\\t\" + \"\\t\\t\".join(str(e) for e in protein))\n",
    "\n",
    "    \n",
    "    return output\n",
    "            \n",
    "            "
   ]
  },
  {
   "cell_type": "markdown",
   "metadata": {},
   "source": [
    "# Retrieving the protein, gene sets retrieved from uniprot\n",
    "The entries on the uniprot database downloaded manually therefore the first step is open the .fasta file.\n",
    "The file is going to be opened with SeqIO function parse that is going to format the output accordingly.\n",
    "\n",
    "A quick rundown on the variables:\n",
    "    protein_terms -> Dictionary with key \"protein_id\". Stores protein ontological terms associated with each found protein.\n",
    "    protein_label -> Stores the labels for each protein\n",
    "    all_terms -> As implied by the name stores every found ontological term. Will be used in the term count variable further on."
   ]
  },
  {
   "cell_type": "code",
   "execution_count": 36,
   "metadata": {},
   "outputs": [
    {
     "name": "stdout",
     "output_type": "stream",
     "text": [
      "Retrieving protein names and IDs from uniprot-database_(type_mim+168600).fasta\n",
      "\n",
      "ProteinName\tProteinID\n",
      "\n",
      "PARK7_HUMAN\tQ99497\n",
      "\n",
      "PINK1_HUMAN\tQ9BXM7\n",
      "\n",
      "HTRA2_HUMAN\tO43464\n",
      "\n",
      "SYUA_HUMAN\tP37840\n",
      "\n",
      "GLCM_HUMAN\tP04062\n",
      "\n",
      "LRRK2_HUMAN\tQ5S007\n",
      "\n",
      "PRKN_HUMAN\tO60260\n",
      "\n",
      "SNCAP_HUMAN\tQ9Y6H5\n",
      "\n",
      "TM175_HUMAN\tQ9BSA9\n",
      "\n",
      "DJC13_HUMAN\tO75165\n",
      "\n",
      "TM230_HUMAN\tQ96A57\n",
      "\n"
     ]
    }
   ],
   "source": [
    "from Bio import SeqIO\n",
    "import requests\n",
    "\n",
    "OMIM=\"uniprot-database_(type_mim+168600).fasta\"\n",
    "\n",
    "\n",
    "protein_info = getProteinArray(OMIM)\n",
    "\n",
    "\n",
    "#writting focus proteins to file\n",
    "print(\"Retrieving protein names and IDs from \"+ OMIM + \"\\n\")\n",
    "print(\"ProteinName\\tProteinID\\n\")\n",
    "for protein in protein_info:\n",
    "        print(protein[1] + \"\\t\" + protein[0] + \"\\n\")\n"
   ]
  },
  {
   "cell_type": "markdown",
   "metadata": {},
   "source": [
    "# Correlation analysis"
   ]
  },
  {
   "cell_type": "code",
   "execution_count": 37,
   "metadata": {},
   "outputs": [
    {
     "name": "stdout",
     "output_type": "stream",
     "text": [
      "By looking at the correlation plot, there is a clear divide between 2 groups of proteins\n",
      "\n"
     ]
    },
    {
     "data": {
      "image/png": "[encoded data removed]",
      "text/plain": [
       "<Figure size 432x288 with 1 Axes>"
      ]
     },
     "metadata": {},
     "output_type": "display_data"
    }
   ],
   "source": [
    "#Heatmap\n",
    "print(\"By looking at the correlation plot, there is a clear divide between 2 groups of proteins\\n\")\n",
    "corr_plot = heat_plot_analysis(protein_label, protein_terms, False)\n"
   ]
  },
  {
   "cell_type": "markdown",
   "metadata": {},
   "source": [
    "GO ID analysis"
   ]
  },
  {
   "cell_type": "code",
   "execution_count": 38,
   "metadata": {},
   "outputs": [
    {
     "ename": "KeyboardInterrupt",
     "evalue": "",
     "output_type": "error",
     "traceback": [
      "\u001b[0;31m---------------------------------------------------------------------------\u001b[0m",
      "\u001b[0;31mKeyboardInterrupt\u001b[0m                         Traceback (most recent call last)",
      "\u001b[0;32m<ipython-input-38-2e9a41da465b>\u001b[0m in \u001b[0;36m<module>\u001b[0;34m()\u001b[0m\n\u001b[1;32m      3\u001b[0m \u001b[0mall_terms\u001b[0m \u001b[0;34m=\u001b[0m \u001b[0;34m[\u001b[0m\u001b[0;34m]\u001b[0m\u001b[0;34m\u001b[0m\u001b[0m\n\u001b[1;32m      4\u001b[0m \u001b[0;32mfor\u001b[0m \u001b[0mprotein_id\u001b[0m \u001b[0;32min\u001b[0m \u001b[0mprotein_info\u001b[0m\u001b[0;34m:\u001b[0m\u001b[0;34m\u001b[0m\u001b[0m\n\u001b[0;32m----> 5\u001b[0;31m     \u001b[0mall_terms\u001b[0m\u001b[0;34m.\u001b[0m\u001b[0mextend\u001b[0m\u001b[0;34m(\u001b[0m\u001b[0muniRetrieval\u001b[0m\u001b[0;34m.\u001b[0m\u001b[0mget_full_annotation\u001b[0m\u001b[0;34m(\u001b[0m\u001b[0mprotein_id\u001b[0m\u001b[0;34m[\u001b[0m\u001b[0;36m1\u001b[0m\u001b[0;34m]\u001b[0m\u001b[0;34m)\u001b[0m\u001b[0;34m)\u001b[0m\u001b[0;34m\u001b[0m\u001b[0m\n\u001b[0m\u001b[1;32m      6\u001b[0m \u001b[0;34m\u001b[0m\u001b[0m\n\u001b[1;32m      7\u001b[0m \u001b[0mterm_counts\u001b[0m \u001b[0;34m=\u001b[0m \u001b[0;34m{\u001b[0m\u001b[0mterm\u001b[0m\u001b[0;34m:\u001b[0m \u001b[0mall_terms\u001b[0m\u001b[0;34m.\u001b[0m\u001b[0mcount\u001b[0m\u001b[0;34m(\u001b[0m\u001b[0mterm\u001b[0m\u001b[0;34m)\u001b[0m \u001b[0;32mfor\u001b[0m \u001b[0mterm\u001b[0m \u001b[0;32min\u001b[0m \u001b[0mall_terms\u001b[0m\u001b[0;34m}\u001b[0m\u001b[0;34m\u001b[0m\u001b[0m\n",
      "\u001b[0;32m~/Desktop/Bioinformática/uniRetrieval.py\u001b[0m in \u001b[0;36mget_full_annotation\u001b[0;34m(uniprot_id)\u001b[0m\n\u001b[1;32m     54\u001b[0m     \u001b[0;31m# First get the Uniprot data\u001b[0m\u001b[0;34m\u001b[0m\u001b[0;34m\u001b[0m\u001b[0m\n\u001b[1;32m     55\u001b[0m     \u001b[0mresponse\u001b[0m \u001b[0;34m=\u001b[0m \u001b[0mrequests\u001b[0m\u001b[0;34m.\u001b[0m\u001b[0mget\u001b[0m\u001b[0;34m(\u001b[0m\u001b[0;34m'http://www.uniprot.org/uniprot/'\u001b[0m \u001b[0;34m+\u001b[0m \u001b[0muniprot_id\u001b[0m \u001b[0;34m+\u001b[0m \u001b[0;34m'.txt'\u001b[0m\u001b[0;34m)\u001b[0m\u001b[0;34m\u001b[0m\u001b[0m\n\u001b[0;32m---> 56\u001b[0;31m     \u001b[0mdata\u001b[0m \u001b[0;34m=\u001b[0m \u001b[0mresponse\u001b[0m\u001b[0;34m.\u001b[0m\u001b[0mtext\u001b[0m\u001b[0;34m\u001b[0m\u001b[0m\n\u001b[0m\u001b[1;32m     57\u001b[0m     \u001b[0mdata_lines\u001b[0m \u001b[0;34m=\u001b[0m \u001b[0mdata\u001b[0m\u001b[0;34m.\u001b[0m\u001b[0msplitlines\u001b[0m\u001b[0;34m(\u001b[0m\u001b[0;34m)\u001b[0m\u001b[0;34m\u001b[0m\u001b[0m\n\u001b[1;32m     58\u001b[0m \u001b[0;34m\u001b[0m\u001b[0m\n",
      "\u001b[0;32m~/anaconda3/lib/python3.6/site-packages/requests/api.py\u001b[0m in \u001b[0;36mget\u001b[0;34m(url, params, **kwargs)\u001b[0m\n\u001b[1;32m     70\u001b[0m \u001b[0;34m\u001b[0m\u001b[0m\n\u001b[1;32m     71\u001b[0m     \u001b[0mkwargs\u001b[0m\u001b[0;34m.\u001b[0m\u001b[0msetdefault\u001b[0m\u001b[0;34m(\u001b[0m\u001b[0;34m'allow_redirects'\u001b[0m\u001b[0;34m,\u001b[0m \u001b[0;32mTrue\u001b[0m\u001b[0;34m)\u001b[0m\u001b[0;34m\u001b[0m\u001b[0m\n\u001b[0;32m---> 72\u001b[0;31m     \u001b[0;32mreturn\u001b[0m \u001b[0mrequest\u001b[0m\u001b[0;34m(\u001b[0m\u001b[0;34m'get'\u001b[0m\u001b[0;34m,\u001b[0m \u001b[0murl\u001b[0m\u001b[0;34m,\u001b[0m \u001b[0mparams\u001b[0m\u001b[0;34m=\u001b[0m\u001b[0mparams\u001b[0m\u001b[0;34m,\u001b[0m \u001b[0;34m**\u001b[0m\u001b[0mkwargs\u001b[0m\u001b[0;34m)\u001b[0m\u001b[0;34m\u001b[0m\u001b[0m\n\u001b[0m\u001b[1;32m     73\u001b[0m \u001b[0;34m\u001b[0m\u001b[0m\n\u001b[1;32m     74\u001b[0m \u001b[0;34m\u001b[0m\u001b[0m\n",
      "\u001b[0;32m~/anaconda3/lib/python3.6/site-packages/requests/api.py\u001b[0m in \u001b[0;36mrequest\u001b[0;34m(method, url, **kwargs)\u001b[0m\n\u001b[1;32m     56\u001b[0m     \u001b[0;31m# cases, and look like a memory leak in others.\u001b[0m\u001b[0;34m\u001b[0m\u001b[0;34m\u001b[0m\u001b[0m\n\u001b[1;32m     57\u001b[0m     \u001b[0;32mwith\u001b[0m \u001b[0msessions\u001b[0m\u001b[0;34m.\u001b[0m\u001b[0mSession\u001b[0m\u001b[0;34m(\u001b[0m\u001b[0;34m)\u001b[0m \u001b[0;32mas\u001b[0m \u001b[0msession\u001b[0m\u001b[0;34m:\u001b[0m\u001b[0;34m\u001b[0m\u001b[0m\n\u001b[0;32m---> 58\u001b[0;31m         \u001b[0;32mreturn\u001b[0m \u001b[0msession\u001b[0m\u001b[0;34m.\u001b[0m\u001b[0mrequest\u001b[0m\u001b[0;34m(\u001b[0m\u001b[0mmethod\u001b[0m\u001b[0;34m=\u001b[0m\u001b[0mmethod\u001b[0m\u001b[0;34m,\u001b[0m \u001b[0murl\u001b[0m\u001b[0;34m=\u001b[0m\u001b[0murl\u001b[0m\u001b[0;34m,\u001b[0m \u001b[0;34m**\u001b[0m\u001b[0mkwargs\u001b[0m\u001b[0;34m)\u001b[0m\u001b[0;34m\u001b[0m\u001b[0m\n\u001b[0m\u001b[1;32m     59\u001b[0m \u001b[0;34m\u001b[0m\u001b[0m\n\u001b[1;32m     60\u001b[0m \u001b[0;34m\u001b[0m\u001b[0m\n",
      "\u001b[0;32m~/anaconda3/lib/python3.6/site-packages/requests/sessions.py\u001b[0m in \u001b[0;36mrequest\u001b[0;34m(self, method, url, params, data, headers, cookies, files, auth, timeout, allow_redirects, proxies, hooks, stream, verify, cert, json)\u001b[0m\n\u001b[1;32m    506\u001b[0m         }\n\u001b[1;32m    507\u001b[0m         \u001b[0msend_kwargs\u001b[0m\u001b[0;34m.\u001b[0m\u001b[0mupdate\u001b[0m\u001b[0;34m(\u001b[0m\u001b[0msettings\u001b[0m\u001b[0;34m)\u001b[0m\u001b[0;34m\u001b[0m\u001b[0m\n\u001b[0;32m--> 508\u001b[0;31m         \u001b[0mresp\u001b[0m \u001b[0;34m=\u001b[0m \u001b[0mself\u001b[0m\u001b[0;34m.\u001b[0m\u001b[0msend\u001b[0m\u001b[0;34m(\u001b[0m\u001b[0mprep\u001b[0m\u001b[0;34m,\u001b[0m \u001b[0;34m**\u001b[0m\u001b[0msend_kwargs\u001b[0m\u001b[0;34m)\u001b[0m\u001b[0;34m\u001b[0m\u001b[0m\n\u001b[0m\u001b[1;32m    509\u001b[0m \u001b[0;34m\u001b[0m\u001b[0m\n\u001b[1;32m    510\u001b[0m         \u001b[0;32mreturn\u001b[0m \u001b[0mresp\u001b[0m\u001b[0;34m\u001b[0m\u001b[0m\n",
      "\u001b[0;32m~/anaconda3/lib/python3.6/site-packages/requests/sessions.py\u001b[0m in \u001b[0;36msend\u001b[0;34m(self, request, **kwargs)\u001b[0m\n\u001b[1;32m    638\u001b[0m \u001b[0;34m\u001b[0m\u001b[0m\n\u001b[1;32m    639\u001b[0m         \u001b[0;31m# Resolve redirects if allowed.\u001b[0m\u001b[0;34m\u001b[0m\u001b[0;34m\u001b[0m\u001b[0m\n\u001b[0;32m--> 640\u001b[0;31m         \u001b[0mhistory\u001b[0m \u001b[0;34m=\u001b[0m \u001b[0;34m[\u001b[0m\u001b[0mresp\u001b[0m \u001b[0;32mfor\u001b[0m \u001b[0mresp\u001b[0m \u001b[0;32min\u001b[0m \u001b[0mgen\u001b[0m\u001b[0;34m]\u001b[0m \u001b[0;32mif\u001b[0m \u001b[0mallow_redirects\u001b[0m \u001b[0;32melse\u001b[0m \u001b[0;34m[\u001b[0m\u001b[0;34m]\u001b[0m\u001b[0;34m\u001b[0m\u001b[0m\n\u001b[0m\u001b[1;32m    641\u001b[0m \u001b[0;34m\u001b[0m\u001b[0m\n\u001b[1;32m    642\u001b[0m         \u001b[0;31m# Shuffle things around if there's history.\u001b[0m\u001b[0;34m\u001b[0m\u001b[0;34m\u001b[0m\u001b[0m\n",
      "\u001b[0;32m~/anaconda3/lib/python3.6/site-packages/requests/sessions.py\u001b[0m in \u001b[0;36m<listcomp>\u001b[0;34m(.0)\u001b[0m\n\u001b[1;32m    638\u001b[0m \u001b[0;34m\u001b[0m\u001b[0m\n\u001b[1;32m    639\u001b[0m         \u001b[0;31m# Resolve redirects if allowed.\u001b[0m\u001b[0;34m\u001b[0m\u001b[0;34m\u001b[0m\u001b[0m\n\u001b[0;32m--> 640\u001b[0;31m         \u001b[0mhistory\u001b[0m \u001b[0;34m=\u001b[0m \u001b[0;34m[\u001b[0m\u001b[0mresp\u001b[0m \u001b[0;32mfor\u001b[0m \u001b[0mresp\u001b[0m \u001b[0;32min\u001b[0m \u001b[0mgen\u001b[0m\u001b[0;34m]\u001b[0m \u001b[0;32mif\u001b[0m \u001b[0mallow_redirects\u001b[0m \u001b[0;32melse\u001b[0m \u001b[0;34m[\u001b[0m\u001b[0;34m]\u001b[0m\u001b[0;34m\u001b[0m\u001b[0m\n\u001b[0m\u001b[1;32m    641\u001b[0m \u001b[0;34m\u001b[0m\u001b[0m\n\u001b[1;32m    642\u001b[0m         \u001b[0;31m# Shuffle things around if there's history.\u001b[0m\u001b[0;34m\u001b[0m\u001b[0;34m\u001b[0m\u001b[0m\n",
      "\u001b[0;32m~/anaconda3/lib/python3.6/site-packages/requests/sessions.py\u001b[0m in \u001b[0;36mresolve_redirects\u001b[0;34m(self, resp, req, stream, timeout, verify, cert, proxies, yield_requests, **adapter_kwargs)\u001b[0m\n\u001b[1;32m    216\u001b[0m                     \u001b[0mproxies\u001b[0m\u001b[0;34m=\u001b[0m\u001b[0mproxies\u001b[0m\u001b[0;34m,\u001b[0m\u001b[0;34m\u001b[0m\u001b[0m\n\u001b[1;32m    217\u001b[0m                     \u001b[0mallow_redirects\u001b[0m\u001b[0;34m=\u001b[0m\u001b[0;32mFalse\u001b[0m\u001b[0;34m,\u001b[0m\u001b[0;34m\u001b[0m\u001b[0m\n\u001b[0;32m--> 218\u001b[0;31m                     \u001b[0;34m**\u001b[0m\u001b[0madapter_kwargs\u001b[0m\u001b[0;34m\u001b[0m\u001b[0m\n\u001b[0m\u001b[1;32m    219\u001b[0m                 )\n\u001b[1;32m    220\u001b[0m \u001b[0;34m\u001b[0m\u001b[0m\n",
      "\u001b[0;32m~/anaconda3/lib/python3.6/site-packages/requests/sessions.py\u001b[0m in \u001b[0;36msend\u001b[0;34m(self, request, **kwargs)\u001b[0m\n\u001b[1;32m    616\u001b[0m \u001b[0;34m\u001b[0m\u001b[0m\n\u001b[1;32m    617\u001b[0m         \u001b[0;31m# Send the request\u001b[0m\u001b[0;34m\u001b[0m\u001b[0;34m\u001b[0m\u001b[0m\n\u001b[0;32m--> 618\u001b[0;31m         \u001b[0mr\u001b[0m \u001b[0;34m=\u001b[0m \u001b[0madapter\u001b[0m\u001b[0;34m.\u001b[0m\u001b[0msend\u001b[0m\u001b[0;34m(\u001b[0m\u001b[0mrequest\u001b[0m\u001b[0;34m,\u001b[0m \u001b[0;34m**\u001b[0m\u001b[0mkwargs\u001b[0m\u001b[0;34m)\u001b[0m\u001b[0;34m\u001b[0m\u001b[0m\n\u001b[0m\u001b[1;32m    619\u001b[0m \u001b[0;34m\u001b[0m\u001b[0m\n\u001b[1;32m    620\u001b[0m         \u001b[0;31m# Total elapsed time of the request (approximately)\u001b[0m\u001b[0;34m\u001b[0m\u001b[0;34m\u001b[0m\u001b[0m\n",
      "\u001b[0;32m~/anaconda3/lib/python3.6/site-packages/requests/adapters.py\u001b[0m in \u001b[0;36msend\u001b[0;34m(self, request, stream, timeout, verify, cert, proxies)\u001b[0m\n\u001b[1;32m    438\u001b[0m                     \u001b[0mdecode_content\u001b[0m\u001b[0;34m=\u001b[0m\u001b[0;32mFalse\u001b[0m\u001b[0;34m,\u001b[0m\u001b[0;34m\u001b[0m\u001b[0m\n\u001b[1;32m    439\u001b[0m                     \u001b[0mretries\u001b[0m\u001b[0;34m=\u001b[0m\u001b[0mself\u001b[0m\u001b[0;34m.\u001b[0m\u001b[0mmax_retries\u001b[0m\u001b[0;34m,\u001b[0m\u001b[0;34m\u001b[0m\u001b[0m\n\u001b[0;32m--> 440\u001b[0;31m                     \u001b[0mtimeout\u001b[0m\u001b[0;34m=\u001b[0m\u001b[0mtimeout\u001b[0m\u001b[0;34m\u001b[0m\u001b[0m\n\u001b[0m\u001b[1;32m    441\u001b[0m                 )\n\u001b[1;32m    442\u001b[0m \u001b[0;34m\u001b[0m\u001b[0m\n",
      "\u001b[0;32m~/anaconda3/lib/python3.6/site-packages/urllib3/connectionpool.py\u001b[0m in \u001b[0;36murlopen\u001b[0;34m(self, method, url, body, headers, retries, redirect, assert_same_host, timeout, pool_timeout, release_conn, chunked, body_pos, **response_kw)\u001b[0m\n\u001b[1;32m    599\u001b[0m                                                   \u001b[0mtimeout\u001b[0m\u001b[0;34m=\u001b[0m\u001b[0mtimeout_obj\u001b[0m\u001b[0;34m,\u001b[0m\u001b[0;34m\u001b[0m\u001b[0m\n\u001b[1;32m    600\u001b[0m                                                   \u001b[0mbody\u001b[0m\u001b[0;34m=\u001b[0m\u001b[0mbody\u001b[0m\u001b[0;34m,\u001b[0m \u001b[0mheaders\u001b[0m\u001b[0;34m=\u001b[0m\u001b[0mheaders\u001b[0m\u001b[0;34m,\u001b[0m\u001b[0;34m\u001b[0m\u001b[0m\n\u001b[0;32m--> 601\u001b[0;31m                                                   chunked=chunked)\n\u001b[0m\u001b[1;32m    602\u001b[0m \u001b[0;34m\u001b[0m\u001b[0m\n\u001b[1;32m    603\u001b[0m             \u001b[0;31m# If we're going to release the connection in ``finally:``, then\u001b[0m\u001b[0;34m\u001b[0m\u001b[0;34m\u001b[0m\u001b[0m\n",
      "\u001b[0;32m~/anaconda3/lib/python3.6/site-packages/urllib3/connectionpool.py\u001b[0m in \u001b[0;36m_make_request\u001b[0;34m(self, conn, method, url, timeout, chunked, **httplib_request_kw)\u001b[0m\n\u001b[1;32m    344\u001b[0m         \u001b[0;31m# Trigger any extra validation we need to do.\u001b[0m\u001b[0;34m\u001b[0m\u001b[0;34m\u001b[0m\u001b[0m\n\u001b[1;32m    345\u001b[0m         \u001b[0;32mtry\u001b[0m\u001b[0;34m:\u001b[0m\u001b[0;34m\u001b[0m\u001b[0m\n\u001b[0;32m--> 346\u001b[0;31m             \u001b[0mself\u001b[0m\u001b[0;34m.\u001b[0m\u001b[0m_validate_conn\u001b[0m\u001b[0;34m(\u001b[0m\u001b[0mconn\u001b[0m\u001b[0;34m)\u001b[0m\u001b[0;34m\u001b[0m\u001b[0m\n\u001b[0m\u001b[1;32m    347\u001b[0m         \u001b[0;32mexcept\u001b[0m \u001b[0;34m(\u001b[0m\u001b[0mSocketTimeout\u001b[0m\u001b[0;34m,\u001b[0m \u001b[0mBaseSSLError\u001b[0m\u001b[0;34m)\u001b[0m \u001b[0;32mas\u001b[0m \u001b[0me\u001b[0m\u001b[0;34m:\u001b[0m\u001b[0;34m\u001b[0m\u001b[0m\n\u001b[1;32m    348\u001b[0m             \u001b[0;31m# Py2 raises this as a BaseSSLError, Py3 raises it as socket timeout.\u001b[0m\u001b[0;34m\u001b[0m\u001b[0;34m\u001b[0m\u001b[0m\n",
      "\u001b[0;32m~/anaconda3/lib/python3.6/site-packages/urllib3/connectionpool.py\u001b[0m in \u001b[0;36m_validate_conn\u001b[0;34m(self, conn)\u001b[0m\n\u001b[1;32m    848\u001b[0m         \u001b[0;31m# Force connect early to allow us to validate the connection.\u001b[0m\u001b[0;34m\u001b[0m\u001b[0;34m\u001b[0m\u001b[0m\n\u001b[1;32m    849\u001b[0m         \u001b[0;32mif\u001b[0m \u001b[0;32mnot\u001b[0m \u001b[0mgetattr\u001b[0m\u001b[0;34m(\u001b[0m\u001b[0mconn\u001b[0m\u001b[0;34m,\u001b[0m \u001b[0;34m'sock'\u001b[0m\u001b[0;34m,\u001b[0m \u001b[0;32mNone\u001b[0m\u001b[0;34m)\u001b[0m\u001b[0;34m:\u001b[0m  \u001b[0;31m# AppEngine might not have  `.sock`\u001b[0m\u001b[0;34m\u001b[0m\u001b[0m\n\u001b[0;32m--> 850\u001b[0;31m             \u001b[0mconn\u001b[0m\u001b[0;34m.\u001b[0m\u001b[0mconnect\u001b[0m\u001b[0;34m(\u001b[0m\u001b[0;34m)\u001b[0m\u001b[0;34m\u001b[0m\u001b[0m\n\u001b[0m\u001b[1;32m    851\u001b[0m \u001b[0;34m\u001b[0m\u001b[0m\n\u001b[1;32m    852\u001b[0m         \u001b[0;32mif\u001b[0m \u001b[0;32mnot\u001b[0m \u001b[0mconn\u001b[0m\u001b[0;34m.\u001b[0m\u001b[0mis_verified\u001b[0m\u001b[0;34m:\u001b[0m\u001b[0;34m\u001b[0m\u001b[0m\n",
      "\u001b[0;32m~/anaconda3/lib/python3.6/site-packages/urllib3/connection.py\u001b[0m in \u001b[0;36mconnect\u001b[0;34m(self)\u001b[0m\n\u001b[1;32m    324\u001b[0m             \u001b[0mca_cert_dir\u001b[0m\u001b[0;34m=\u001b[0m\u001b[0mself\u001b[0m\u001b[0;34m.\u001b[0m\u001b[0mca_cert_dir\u001b[0m\u001b[0;34m,\u001b[0m\u001b[0;34m\u001b[0m\u001b[0m\n\u001b[1;32m    325\u001b[0m             \u001b[0mserver_hostname\u001b[0m\u001b[0;34m=\u001b[0m\u001b[0mhostname\u001b[0m\u001b[0;34m,\u001b[0m\u001b[0;34m\u001b[0m\u001b[0m\n\u001b[0;32m--> 326\u001b[0;31m             ssl_context=context)\n\u001b[0m\u001b[1;32m    327\u001b[0m \u001b[0;34m\u001b[0m\u001b[0m\n\u001b[1;32m    328\u001b[0m         \u001b[0;32mif\u001b[0m \u001b[0mself\u001b[0m\u001b[0;34m.\u001b[0m\u001b[0massert_fingerprint\u001b[0m\u001b[0;34m:\u001b[0m\u001b[0;34m\u001b[0m\u001b[0m\n",
      "\u001b[0;32m~/anaconda3/lib/python3.6/site-packages/urllib3/util/ssl_.py\u001b[0m in \u001b[0;36mssl_wrap_socket\u001b[0;34m(sock, keyfile, certfile, cert_reqs, ca_certs, server_hostname, ssl_version, ciphers, ssl_context, ca_cert_dir)\u001b[0m\n\u001b[1;32m    327\u001b[0m         \u001b[0mcontext\u001b[0m\u001b[0;34m.\u001b[0m\u001b[0mload_cert_chain\u001b[0m\u001b[0;34m(\u001b[0m\u001b[0mcertfile\u001b[0m\u001b[0;34m,\u001b[0m \u001b[0mkeyfile\u001b[0m\u001b[0;34m)\u001b[0m\u001b[0;34m\u001b[0m\u001b[0m\n\u001b[1;32m    328\u001b[0m     \u001b[0;32mif\u001b[0m \u001b[0mHAS_SNI\u001b[0m\u001b[0;34m:\u001b[0m  \u001b[0;31m# Platform-specific: OpenSSL with enabled SNI\u001b[0m\u001b[0;34m\u001b[0m\u001b[0m\n\u001b[0;32m--> 329\u001b[0;31m         \u001b[0;32mreturn\u001b[0m \u001b[0mcontext\u001b[0m\u001b[0;34m.\u001b[0m\u001b[0mwrap_socket\u001b[0m\u001b[0;34m(\u001b[0m\u001b[0msock\u001b[0m\u001b[0;34m,\u001b[0m \u001b[0mserver_hostname\u001b[0m\u001b[0;34m=\u001b[0m\u001b[0mserver_hostname\u001b[0m\u001b[0;34m)\u001b[0m\u001b[0;34m\u001b[0m\u001b[0m\n\u001b[0m\u001b[1;32m    330\u001b[0m \u001b[0;34m\u001b[0m\u001b[0m\n\u001b[1;32m    331\u001b[0m     warnings.warn(\n",
      "\u001b[0;32m~/anaconda3/lib/python3.6/site-packages/urllib3/contrib/pyopenssl.py\u001b[0m in \u001b[0;36mwrap_socket\u001b[0;34m(self, sock, server_side, do_handshake_on_connect, suppress_ragged_eofs, server_hostname)\u001b[0m\n\u001b[1;32m    439\u001b[0m         \u001b[0;32mwhile\u001b[0m \u001b[0;32mTrue\u001b[0m\u001b[0;34m:\u001b[0m\u001b[0;34m\u001b[0m\u001b[0m\n\u001b[1;32m    440\u001b[0m             \u001b[0;32mtry\u001b[0m\u001b[0;34m:\u001b[0m\u001b[0;34m\u001b[0m\u001b[0m\n\u001b[0;32m--> 441\u001b[0;31m                 \u001b[0mcnx\u001b[0m\u001b[0;34m.\u001b[0m\u001b[0mdo_handshake\u001b[0m\u001b[0;34m(\u001b[0m\u001b[0;34m)\u001b[0m\u001b[0;34m\u001b[0m\u001b[0m\n\u001b[0m\u001b[1;32m    442\u001b[0m             \u001b[0;32mexcept\u001b[0m \u001b[0mOpenSSL\u001b[0m\u001b[0;34m.\u001b[0m\u001b[0mSSL\u001b[0m\u001b[0;34m.\u001b[0m\u001b[0mWantReadError\u001b[0m\u001b[0;34m:\u001b[0m\u001b[0;34m\u001b[0m\u001b[0m\n\u001b[1;32m    443\u001b[0m                 \u001b[0mrd\u001b[0m \u001b[0;34m=\u001b[0m \u001b[0mutil\u001b[0m\u001b[0;34m.\u001b[0m\u001b[0mwait_for_read\u001b[0m\u001b[0;34m(\u001b[0m\u001b[0msock\u001b[0m\u001b[0;34m,\u001b[0m \u001b[0msock\u001b[0m\u001b[0;34m.\u001b[0m\u001b[0mgettimeout\u001b[0m\u001b[0;34m(\u001b[0m\u001b[0;34m)\u001b[0m\u001b[0;34m)\u001b[0m\u001b[0;34m\u001b[0m\u001b[0m\n",
      "\u001b[0;32m~/anaconda3/lib/python3.6/site-packages/OpenSSL/SSL.py\u001b[0m in \u001b[0;36mdo_handshake\u001b[0;34m(self)\u001b[0m\n\u001b[1;32m   1904\u001b[0m         \u001b[0;34m:\u001b[0m\u001b[0;32mreturn\u001b[0m\u001b[0;34m:\u001b[0m \u001b[0;32mNone\u001b[0m\u001b[0;34m.\u001b[0m\u001b[0;34m\u001b[0m\u001b[0m\n\u001b[1;32m   1905\u001b[0m         \"\"\"\n\u001b[0;32m-> 1906\u001b[0;31m         \u001b[0mresult\u001b[0m \u001b[0;34m=\u001b[0m \u001b[0m_lib\u001b[0m\u001b[0;34m.\u001b[0m\u001b[0mSSL_do_handshake\u001b[0m\u001b[0;34m(\u001b[0m\u001b[0mself\u001b[0m\u001b[0;34m.\u001b[0m\u001b[0m_ssl\u001b[0m\u001b[0;34m)\u001b[0m\u001b[0;34m\u001b[0m\u001b[0m\n\u001b[0m\u001b[1;32m   1907\u001b[0m         \u001b[0mself\u001b[0m\u001b[0;34m.\u001b[0m\u001b[0m_raise_ssl_error\u001b[0m\u001b[0;34m(\u001b[0m\u001b[0mself\u001b[0m\u001b[0;34m.\u001b[0m\u001b[0m_ssl\u001b[0m\u001b[0;34m,\u001b[0m \u001b[0mresult\u001b[0m\u001b[0;34m)\u001b[0m\u001b[0;34m\u001b[0m\u001b[0m\n\u001b[1;32m   1908\u001b[0m \u001b[0;34m\u001b[0m\u001b[0m\n",
      "\u001b[0;31mKeyboardInterrupt\u001b[0m: "
     ]
    }
   ],
   "source": [
    "import uniRetrieval\n",
    "#GO term counting \n",
    "all_terms = []\n",
    "for protein_id in protein_info:\n",
    "    all_terms.extend(uniRetrieval.get_full_annotation(protein_id[1]))\n",
    "\n",
    "term_counts = {term: all_terms.count(term) for term in all_terms}\n",
    "distinct_terms = list(term_counts)\n",
    "\n",
    "# showing distinct terms\n",
    "print(distinct_terms)"
   ]
  },
  {
   "cell_type": "markdown",
   "metadata": {},
   "source": [
    "# Searching DrugBank for candidate drugs with target protein sequences in blast format\n",
    "\n",
    "Although DrugBank has an api for programmatical access, there is no way to retrieve drugs for a given target sequence / id / protein name. Therefore we are going to print the fasta sequences stored earlier before and will use the tool available in https://www.drugbank.ca/structures/search/bonds/sequence manually.\n",
    "\n",
    "# Results for this stage\n",
    "\n",
    "The DrugBank Blast search was quite tame for some target proteins like PARK7_HUMAN, showing that the only \"known\"(present in the database) drug with relationship with this protein is actually copper! For others this was quite not the case with as far as 271 linked drugs to LRRK2_HUMAN, which are way too many to be studied one by one."
   ]
  },
  {
   "cell_type": "code",
   "execution_count": 40,
   "metadata": {},
   "outputs": [
    {
     "name": "stdout",
     "output_type": "stream",
     "text": [
      ">sp|Q99497|PARK7_HUMAN Protein/nucleic acid deglycase DJ-1 OS=Homo sapiens OX=9606 GN=PARK7 PE=1 SV=2\n",
      "MASKRALVILAKGAEEMETVIPVDVMRRAGIKVTVAGLAGKDPVQCSRDVVICPDASLEDAKKEGPYDVVVLPGGNLGAQNLSESAAVKEILKEQENRKGLIAAICAGPTALLAHEIGFGSKVTTHPLAKDKMMNGGHYTYSENRVEKDGLILTSRGPGTSFEFALAIVEALNGKEVAAQVKAPLVLKD\n",
      "\n",
      ">sp|Q9BXM7|PINK1_HUMAN Serine/threonine-protein kinase PINK1, mitochondrial OS=Homo sapiens OX=9606 GN=PINK1 PE=1 SV=1\n",
      "MAVRQALGRGLQLGRALLLRFTGKPGRAYGLGRPGPAAGCVRGERPGWAAGPGAEPRRVGLGLPNRLRFFRQSVAGLAARLQRQFVVRAWGCAGPCGRAVFLAFGLGLGLIEEKQAESRRAVSACQEIQAIFTQKSKPGPDPLDTRRLQGFRLEEYLIGQSIGKGCSAAVYEATMPTLPQNLEVTKSTGLLPGRGPGTSAPGEGQERAPGAPAFPLAIKMMWNISAGSSSEAILNTMSQELVPASRVALAGEYGAVTYRKSKRGPKQLAPHPNIIRVLRAFTSSVPLLPGALVDYPDVLPSRLHPEGLGHGRTLFLVMKNYPCTLRQYLCVNTPSPRLAAMMLLQLLEGVDHLVQQGIAHRDLKSDNILVELDPDGCPWLVIADFGCCLADESIGLQLPFSSWYVDRGGNGCLMAPEVSTARPGPRAVIDYSKADAWAVGAIAYEIFGLVNPFYGQGKAHLESRSYQEAQLPALPESVPPDVRQLVRALLQREASKRPSARVAANVLHLSLWGEHILALKNLKLDKMVGWLLQQSAATLLANRLTEKCCVETKMKMLFLANLECETLCQAALLLCSWRAAL\n",
      "\n",
      ">sp|O43464|HTRA2_HUMAN Serine protease HTRA2, mitochondrial OS=Homo sapiens OX=9606 GN=HTRA2 PE=1 SV=2\n",
      "MAAPRAGRGAGWSLRAWRALGGIRWGRRPRLTPDLRALLTSGTSDPRARVTYGTPSLWARLSVGVTEPRACLTSGTPGPRAQLTAVTPDTRTREASENSGTRSRAWLAVALGAGGAVLLLLWGGGRGPPAVLAAVPSPPPASPRSQYNFIADVVEKTAPAVVYIEILDRHPFLGREVPISNGSGFVVAADGLIVTNAHVVADRRRVRVRLLSGDTYEAVVTAVDPVADIATLRIQTKEPLPTLPLGRSADVRQGEFVVAMGSPFALQNTITSGIVSSAQRPARDLGLPQTNVEYIQTDAAIDFGNSGGPLVNLDGEVIGVNTMKVTAGISFAIPSDRLREFLHRGEKKNSSSGISGSQRRYIGVMMLTLSPSILAELQLREPSFPDVQHGVLIHKVILGSPAHRAGLRPGDVILAIGEQMVQNAEDVYEAVRTQSQLAVQIRRGRETLTLYVTPEVTE\n",
      "\n",
      ">sp|P37840|SYUA_HUMAN Alpha-synuclein OS=Homo sapiens OX=9606 GN=SNCA PE=1 SV=1\n",
      "MDVFMKGLSKAKEGVVAAAEKTKQGVAEAAGKTKEGVLYVGSKTKEGVVHGVATVAEKTKEQVTNVGGAVVTGVTAVAQKTVEGAGSIAAATGFVKKDQLGKNEEGAPQEGILEDMPVDPDNEAYEMPSEEGYQDYEPEA\n",
      "\n",
      ">sp|P04062|GLCM_HUMAN Lysosomal acid glucosylceramidase OS=Homo sapiens OX=9606 GN=GBA PE=1 SV=3\n",
      "MEFSSPSREECPKPLSRVSIMAGSLTGLLLLQAVSWASGARPCIPKSFGYSSVVCVCNATYCDSFDPPTFPALGTFSRYESTRSGRRMELSMGPIQANHTGTGLLLTLQPEQKFQKVKGFGGAMTDAAALNILALSPPAQNLLLKSYFSEEGIGYNIIRVPMASCDFSIRTYTYADTPDDFQLHNFSLPEEDTKLKIPLIHRALQLAQRPVSLLASPWTSPTWLKTNGAVNGKGSLKGQPGDIYHQTWARYFVKFLDAYAEHKLQFWAVTAENEPSAGLLSGYPFQCLGFTPEHQRDFIARDLGPTLANSTHHNVRLLMLDDQRLLLPHWAKVVLTDPEAAKYVHGIAVHWYLDFLAPAKATLGETHRLFPNTMLFASEACVGSKFWEQSVRLGSWDRGMQYSHSIITNLLYHVVGWTDWNLALNPEGGPNWVRNFVDSPIIVDITKDTFYKQPMFYHLGHFSKFIPEGSQRVGLVASQKNDLDAVALMHPDGSAVVVVLNRSSKDVPLTIKDPAVGFLETISPGYSIHTYLWRRQ\n",
      "\n",
      ">sp|Q5S007|LRRK2_HUMAN Leucine-rich repeat serine/threonine-protein kinase 2 OS=Homo sapiens OX=9606 GN=LRRK2 PE=1 SV=2\n",
      "MASGSCQGCEEDEETLKKLIVRLNNVQEGKQIETLVQILEDLLVFTYSERASKLFQGKNIHVPLLIVLDSYMRVASVQQVGWSLLCKLIEVCPGTMQSLMGPQDVGNDWEVLGVHQLILKMLTVHNASVNLSVIGLKTLDLLLTSGKITLLILDEESDIFMLIFDAMHSFPANDEVQKLGCKALHVLFERVSEEQLTEFVENKDYMILLSALTNFKDEEEIVLHVLHCLHSLAIPCNNVEVLMSGNVRCYNIVVEAMKAFPMSERIQEVSCCLLHRLTLGNFFNILVLNEVHEFVVKAVQQYPENAALQISALSCLALLTETIFLNQDLEEKNENQENDDEGEEDKLFWLEACYKALTWHRKNKHVQEAACWALNNLLMYQNSLHEKIGDEDGHFPAHREVMLSMLMHSSSKEVFQASANALSTLLEQNVNFRKILLSKGIHLNVLELMQKHIHSPEVAESGCKMLNHLFEGSNTSLDIMAAVVPKILTVMKRHETSLPVQLEALRAILHFIVPGMPEESREDTEFHHKLNMVKKQCFKNDIHKLVLAALNRFIGNPGIQKCGLKVISSIVHFPDALEMLSLEGAMDSVLHTLQMYPDDQEIQCLGLSLIGYLITKKNVFIGTGHLLAKILVSSLYRFKDVAEIQTKGFQTILAILKLSASFSKLLVHHSFDLVIFHQMSSNIMEQKDQQFLNLCCKCFAKVAMDDYLKNVMLERACDQNNSIMVECLLLLGADANQAKEGSSLICQVCEKESSPKLVELLLNSGSREQDVRKALTISIGKGDSQIISLLLRRLALDVANNSICLGGFCIGKVEPSWLGPLFPDKTSNLRKQTNIASTLARMVIRYQMKSAVEEGTASGSDGNFSEDVLSKFDEWTFIPDSSMDSVFAQSDDLDSEGSEGSFLVKKKSNSISVGEFYRDAVLQRCSPNLQRHSNSLGPIFDHEDLLKRKRKILSSDDSLRSSKLQSHMRHSDSISSLASEREYITSLDLSANELRDIDALSQKCCISVHLEHLEKLELHQNALTSFPQQLCETLKSLTHLDLHSNKFTSFPSYLLKMSCIANLDVSRNDIGPSVVLDPTVKCPTLKQFNLSYNQLSFVPENLTDVVEKLEQLILEGNKISGICSPLRLKELKILNLSKNHISSLSENFLEACPKVESFSARMNFLAAMPFLPPSMTILKLSQNKFSCIPEAILNLPHLRSLDMSSNDIQYLPGPAHWKSLNLRELLFSHNQISILDLSEKAYLWSRVEKLHLSHNKLKEIPPEIGCLENLTSLDVSYNLELRSFPNEMGKLSKIWDLPLDELHLNFDFKHIGCKAKDIIRFLQQRLKKAVPYNRMKLMIVGNTGSGKTTLLQQLMKTKKSDLGMQSATVGIDVKDWPIQIRDKRKRDLVLNVWDFAGREEFYSTHPHFMTQRALYLAVYDLSKGQAEVDAMKPWLFNIKARASSSPVILVGTHLDVSDEKQRKACMSKITKELLNKRGFPAIRDYHFVNATEESDALAKLRKTIINESLNFKIRDQLVVGQLIPDCYVELEKIILSERKNVPIEFPVIDRKRLLQLVRENQLQLDENELPHAVHFLNESGVLLHFQDPALQLSDLYFVEPKWLCKIMAQILTVKVEGCPKHPKGIISRRDVEKFLSKKRKFPKNYMSQYFKLLEKFQIALPIGEEYLLVPSSLSDHRPVIELPHCENSEIIIRLYEMPYFPMGFWSRLINRLLEISPYMLSGRERALRPNRMYWRQGIYLNWSPEAYCLVGSEVLDNHPESFLKITVPSCRKGCILLGQVVDHIDSLMEEWFPGLLEIDICGEGETLLKKWALYSFNDGEEHQKILLDDLMKKAEEGDLLVNPDQPRLTIPISQIAPDLILADLPRNIMLNNDELEFEQAPEFLLGDGSFGSVYRAAYEGEEVAVKIFNKHTSLRLLRQELVVLCHLHHPSLISLLAAGIRPRMLVMELASKGSLDRLLQQDKASLTRTLQHRIALHVADGLRYLHSAMIIYRDLKPHNVLLFTLYPNAAIIAKIADYGIAQYCCRMGIKTSEGTPGFRAPEVARGNVIYNQQADVYSFGLLLYDILTTGGRIVEGLKFPNEFDELEIQGKLPDPVKEYGCAPWPMVEKLIKQCLKENPQERPTSAQVFDILNSAELVCLTRRILLPKNVIVECMVATHHNSRNASIWLGCGHTDRGQLSFLDLNTEGYTSEEVADSRILCLALVHLPVEKESWIVSGTQSGTLLVINTEDGKKRHTLEKMTDSVTCLYCNSFSKQSKQKNFLLVGTADGKLAIFEDKTVKLKGAAPLKILNIGNVSTPLMCLSESTNSTERNVMWGGCGTKIFSFSNDFTIQKLIETRTSQLFSYAAFSDSNIITVVVDTALYIAKQNSPVVEVWDKKTEKLCGLIDCVHFLREVMVKENKESKHKMSYSGRVKTLCLQKNTALWIGTGGGHILLLDLSTRRLIRVIYNFCNSVRVMMTAQLGSLKNVMLVLGYNRKNTEGTQKQKEIQSCLTVWDINLPHEVQNLEKHIEVRKELAEKMRRTSVE\n",
      "\n",
      ">sp|O60260|PRKN_HUMAN E3 ubiquitin-protein ligase parkin OS=Homo sapiens OX=9606 GN=PRKN PE=1 SV=2\n",
      "MIVFVRFNSSHGFPVEVDSDTSIFQLKEVVAKRQGVPADQLRVIFAGKELRNDWTVQNCDLDQQSIVHIVQRPWRKGQEMNATGGDDPRNAAGGCEREPQSLTRVDLSSSVLPGDSVGLAVILHTDSRKDSPPAGSPAGRSIYNSFYVYCKGPCQRVQPGKLRVQCSTCRQATLTLTQGPSCWDDVLIPNRMSGECQSPHCPGTSAEFFFKCGAHPTSDKETSVALHLIATNSRNITCITCTDVRSPVLVFQCNSRHVICLDCFHLYCVTRLNDRQFVHDPQLGYSLPCVAGCPNSLIKELHHFRILGEEQYNRYQQYGAEECVLQMGGVLCPRPGCGAGLLPEPDQRKVTCEGGNGLGCGFAFCRECKEAYHEGECSAVFEASGTTTQAYRVDERAAEQARWEAASKETIKKTTKPCPRCHVPVEKNGGCMHMKCPQPQCRLEWCWNCGCEWNRVCMGDHWFDV\n",
      "\n",
      ">sp|Q9Y6H5|SNCAP_HUMAN Synphilin-1 OS=Homo sapiens OX=9606 GN=SNCAIP PE=1 SV=2\n",
      "MEAPEYLDLDEIDFSDDISYSVTSLKTIPELCRRCDTQNEDRSVSSSSWNCGISTLITNTQKPTGIADVYSKFRPVKRVSPLKHQPETLENNESDDQKNQKVVEYQKGGESDLGPQPQELGPGDGVGGPPGKSSEPSTSLGELEHYDLDMDEILDVPYIKSSQQLASFTKVTSEKRILGLCTTINGLSGKACSTGSSESSSSNMAPFCVLSPVKSPHLRKASAVIHDQHKLSTEETEISPPLVKCGSAYEPENQSKDFLNKTFSDPHGRKVEKTTPDCQLRAFHLQSSAAESKPEEQVSGLNRTSSQGPEERSEYLKKVKSILNIVKEGQISLLPHLAADNLDKIHDENGNNLLHIAASQGHAECLQHLTSLMGEDCLNERNTEKLTPAGLAIKNGQLECVRWMVSETEAIAELSCSKDFPSLIHYAGCYGQEKILLWLLQFMQEQGISLDEVDQDGNSAVHVASQHGYLGCIQTLVEYGANVTMQNHAGEKPSQSAERQGHTLCSRYLVVVETCMSLASQVVKLTKQLKEQTVERVTLQNQLQQFLEAQKSEGKSLPSSPSSPSSPASRKSQWKSPDADDDSVAKSKPGVQEGIQVLGSLSASSRARPKAKDEDSDKILRQLLGKEISENVCTQEKLSLEFQDAQASSRNSKKIPLEKRELKLARLRQLMQRSLSESDTDSNNSEDPKTTPVRKADRPRPQPIVESVESMDSAESLHLMIKKHTLASGGRRFPFSIKASKSLDGHSPSPTSESSEPDLESQYPGSGSIPPNQPSGDPQQPSPDSTAAQKVATSPKSALKSPSSKRRTSQNLKLRVTFEEPVVQMEQPSLELNGEKDKDKGRTLQRTSTSNESGDQLKRPFGAFRSIMETLSGNQNNNNNYQAANQLKTSTLPLTSLGRKTDAKGNPASSASKGKNKAA\n",
      "\n",
      ">sp|Q9BSA9|TM175_HUMAN Endosomal/lysosomal potassium channel TMEM175 OS=Homo sapiens OX=9606 GN=TMEM175 PE=1 SV=1\n",
      "MSQPRTPEQALDTPGDCPPGRRDEDAGEGIQCSQRMLSFSDALLSIIATVMILPVTHTEISPEQQFDRSVQRLLATRIAVYLMTFLIVTVAWAAHTRLFQVVGKTDDTLALLNLACMMTITFLPYTFSLMVTFPDVPLGIFLFCVCVIAIGVVQALIVGYAFHFPHLLSPQIQRSAHRALYRRHVLGIVLQGPALCFAAAIFSLFFVPLSYLLMVTVILLPYVSKVTGWCRDRLLGHREPSAHPVEVFSFDLHEPLSKERVEAFSDGVYAIVATLLILDICEDNVPDPKDVKERFSGSLVAALSATGPRFLAYFGSFATVGLLWFAHHSLFLHVRKATRAMGLLNTLSLAFVGGLPLAYQQTSAFARQPRDELERVRVSCTIIFLASIFQLAMWTTALLHQAETLQPSVWFGGREHVLMFAKLALYPCASLLAFASTCLLSRFSVGIFHLMQIAVPCAFLLLRLLVGLALATLRVLRGLARPEHPPPAPTGQDDPQSQLLPAPC\n",
      "\n",
      ">sp|O75165|DJC13_HUMAN DnaJ homolog subfamily C member 13 OS=Homo sapiens OX=9606 GN=DNAJC13 PE=1 SV=5\n",
      "MNIIRENKDLACFYTTKHSWRGKYKRVFSVGTHAITTYNPNTLEVTNQWPYGDICSISPVGKGQGTEFNLTFRKGSGKKSETLKFSTEHRTELLTEALRFRTDFSEGKITGRRYNCYKHHWSDSRKPVILEVTPGGFDQINPATNRVLCSYDYRNIEGFVDLSDYQGGFCILYGGFSRLHLFASEQREEIIKSAIDHAGNYIGISLRIRKEPLEFEQYLNLRFGKYSTDESITSLAEFVVQKISPRHSEPVKRVLALTETCLVERDPATYNIATLKPLGEVFALVCDSENPQLFTIEFIKGQVRKYSSTERDSLLASLLDGVRASGNRDVCVKMTPTHKGQRWGLLSMPVDEEVESLHLRFLATPPNGNFADAVFRFNANISYSGVLHAVTQDGLFSENKEKLINNAITALLSQEGDVVASNAELESQFQAVRRLVASKAGFLAFTQLPKFRERLGVKVVKALKRSNNGIIHAAVDMLCALMCPMHDDYDLRQEQLNKASLLSSKKFLENLLEKFNSHVDHGTGALVISSLLDFLTFALCAPYSETTEGQQFDMLLEMVASNGRTLFKLFQHPSMAIIKGAGLVMKAIIEEGDKEIATKMQELALSEGALPRHLHTAMFTISSDQRMLTNRQLSRHLVGLWTADNATATNLLKRILPPGLLAYLESSDLVPEKDADRMHVRDNVKIAMDQYGKFNKVPEWQRLAGKAAKEVEKFAKEKVDLVLMHWRDRMGIAQKENINQKPVVLRKRRQRIKIEANWDLFYYRFGQDHARSNLIWNFKTREELKDTLESEMRAFNIDRELGSANVISWNHHEFEVKYECLAEEIKIGDYYLRLLLEEDENEESGSIKRSYEFFNELYHRFLLTPKVNMKCLCLQALAIVYGRCHEEIGPFTDTRYIIGMLERCTDKLERDRLILFLNKLILNKKNVKDLMDSNGIRILVDLLTLAHLHVSRATVPLQSNVIEAAPDMKRESEKEWYFGNADKERSGPYGFHEMQELWTKGMLNAKTRCWAQGMDGWRPLQSIPQLKWCLLASGQAVLNETDLATLILNMLITMCGYFPSRDQDNAIIRPLPKVKRLLSDSTCLPHIIQLLLTFDPILVEKVAILLYHIMQDNPQLPRLYLSGVFFFIMMYTGSNVLPVARFLKYTHTKQAFKSEETKGQDIFQRSILGHILPEAMVCYLENYEPEKFSEIFLGEFDTPEAIWSSEMRRLMIEKIAAHLADFTPRLQSNTRALYQYCPIPIINYPQLENELFCNIYYLKQLCDTLRFPDWPIKDPVKLLKDTLDAWKKEVEKKPPMMSIDDAYEVLNLPQGQGPHDESKIRKAYFRLAQKYHPDKNPEGRDMFEKVNKAYEFLCTKSAKIVDGPDPENIILILKTQSILFNRHKEDLQPYKYAGYPMLIRTITMETSDDLLFSKESPLLPAATELAFHTVNCSALNAEELRRENGLEVLQEAFSRCVAVLTRASKPSDMSVQVCGYISKCYSVAAQFEECREKITEMPSIIKDLCRVLYFGKSIPRVAALGVECVSSFAVDFWLQTHLFQAGILWYLLGFLFNYDYTLEESGIQKSEETNQQEVANSLAKLSVHALSRLGGYLAEEQATPENPTIRKSLAGMLTPYVARKLAVASVTEILKMLNSNTESPYLIWNNSTRAELLEFLESQQENMIKKGDCDKTYGSEFVYSDHAKELIVGEIFVRVYNEVPTFQLEVPKAFAASLLDYIGSQAQYLHTFMAITHAAKVESEQHGDRLPRVEMALEALRNVIKYNPGSESECIGHFKLIFSLLRVHGAGQVQQLALEVVNIVTSNQDCVNNIAESMVLSSLLALLHSLPSSRQLVLETLYALTSSTKIIKEAMAKGALIYLLDMFCNSTHPQVRAQTAELFAKMTADKLIGPKVRITLMKFLPSVFMDAMRDNPEAAVHIFEGTHENPELIWNDNSRDKVSTTVREMMLEHFKNQQDNPEANWKLPEDFAVVFGEAEGELAVGGVFLRIFIAQPAWVLRKPREFLIALLEKLTELLEKNNPHGETLETLTMATVCLFSAQPQLADQVPPLGHLPKVIQAMNHRNNAIPKSAIRVIHALSENELCVRAMASLETIGPLMNGMKKRADTVGLACEAINRMFQKEQSELVAQALKADLVPYLLKLLEGIGLENLDSPAATKAQIVKALKAMTRSLQYGEQVNEILCRSSVWSAFKDQKHDLFISESQTAGYLTGPGVAGYLTAGTSTSVMSNLPPPVDHEAGDLGYQT\n",
      "\n",
      ">sp|Q96A57|TM230_HUMAN Transmembrane protein 230 OS=Homo sapiens OX=9606 GN=TMEM230 PE=1 SV=1\n",
      "MMPSRTNLATGIPSSKVKYSRLSSTDDGYIDLQFKKTPPKIPYKAIALATVLFLIGAFLIIIGSLLLSGYISKGGADRAVPVLIIGILVFLPGFYHLRIAYYASKGYRGYSYDDIPDFDD\n",
      "\n"
     ]
    }
   ],
   "source": [
    "for protein in protein_info:\n",
    "    print(\">%s\\n%s\\n\" % (protein[2], protein[3]))\n",
    "    "
   ]
  },
  {
   "cell_type": "code",
   "execution_count": null,
   "metadata": {},
   "outputs": [],
   "source": []
  }
 ],
 "metadata": {
  "kernelspec": {
   "display_name": "Python 3",
   "language": "python",
   "name": "python3"
  },
  "language_info": {
   "codemirror_mode": {
    "name": "ipython",
    "version": 3
   },
   "file_extension": ".py",
   "mimetype": "text/x-python",
   "name": "python",
   "nbconvert_exporter": "python",
   "pygments_lexer": "ipython3",
   "version": "3.6.5"
  }
 },
 "nbformat": 4,
 "nbformat_minor": 2
}
